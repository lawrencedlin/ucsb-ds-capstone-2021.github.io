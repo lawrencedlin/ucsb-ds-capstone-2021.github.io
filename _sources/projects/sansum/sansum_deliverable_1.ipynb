{
 "cells": [
  {
   "cell_type": "markdown",
   "metadata": {},
   "source": [
    "# Progress Update #1: Sansum \n",
    "![](https://www.sansum.org/wp-content/uploads/2020/05/SDRI_logo_72.png)\n",
    "\n",
    "### Capstone members:\n",
    "- Lawrence Lin, Zoe Holzer, Emily San Juan, Jake Simon, Vanessa Salgado\n",
    "\n",
    "### Faculty:\n",
    "- Alexander Franks, Jiajin Zheng, Dr. Namino Glantz, Dr. David Kerr"
   ]
  },
  {
   "source": [
    "### Company: Sansum Diabetes Research Institute (SDRI) \n",
    "The Sansum Diabetes Research Institute is located in Santa Barbara, California. It is dedicated to improving the lives of people impacted by diabetes through research, education, and care. SDRI has been at the forefront of helping to improve the lives of people living with diabetes since 1944 through its research. SDRI has also supported newly diagnosed diabetic patients and those who have lived with diabetes for a long period of time by providing classes ranging from nutrition, exercise, and healthy living. Furthermore, SDRI cares for people with diabetes in specialized areas such as pediatrics and diabetes during pregnancy.\n"
   ],
   "cell_type": "markdown",
   "metadata": {}
  },
  {
   "source": [
    "### Mil Familias Research Program: \n",
    "\n",
    "![](https://milfamilias.sansum.org/wp-content/uploads/sites/2/2018/01/mil-familias-990-720h1.jpg)\n",
    "\n",
    "The vision of the Mil Familias Program is to reduce dramatically the burden of diabetes, heart disease, and stroke among Latino families in the United States. Bilingual, specially trained community health workers who are knowledgeable about type 2 diabetes (Especialistas) have interacted with families to collect data, answer questions, and connect families to the appropriate resources. Every year for 10 years, more than 100 variables will be measured for each family member using surveys, physical exams, lab tests, and wearable activity monitors. The information that families contribute are then placed in a database about Latino health, behavior, lifestyle, and environment. Based on the data, Mil Familias then plans to intervene in the areas of education, prevention, technology, policy, treatment, and more.\n",
    "\n",
    "- [<u>Understanding the impact of five major determinants of health (genetics, biology, behavior, psychology, society/environment) on type 2 diabetes in U.S. Hispanic/Latino families: Mil Familias - a cohort study<u>](https://doi.org/10.1186/s12902-019-0483-z)\n"
   ],
   "cell_type": "markdown",
   "metadata": {}
  },
  {
   "source": [
    "### Why is this important?\n",
    "Almost 1 in 2 Latino adults are at risk of type 2 diabetes. Recent data from the CDC shows that diabetes rates are twice as high for Latinos of Mexican heritage compared with Whites.\n"
   ],
   "cell_type": "markdown",
   "metadata": {}
  },
  {
   "source": [
    "### Road Map:\n",
    "Initial Data Analysis\n",
    "\n",
    "1. Build data infrastructure for research using RedCap\n",
    "2. Sorting data by qualities using scoring measures\n",
    "\n",
    "Advanced Data Analysis: \n",
    "\n",
    "3. Association between the 5 major health determinants of health(genetics, biology, behavior, psychology, society/environment) \n",
    "4. Use HBA1C level markers of type 2 diabetes in mild (>7) and severe (>9) cases to identify causal relationships\n"
   ],
   "cell_type": "markdown",
   "metadata": {}
  },
  {
   "source": [
    "### Research Question: \n",
    "Which factor out of biology, behavior, psychology, society/environment are causing the highest amount of disproportionate burden in the Latino/Latina community of type 2 diabetes in mild (>7%) and severe (>9%) cases respectively?\n",
    "![](https://www.diabetes.org/sites/default/files/inline-images/A1C_Scale%402x.png)"
   ],
   "cell_type": "markdown",
   "metadata": {}
  },
  {
   "source": [
    "### Tools:\n",
    "- Excel\n",
    "- R \n",
    "- Python\n",
    "- RedCap(Clinical Research Database)\n"
   ],
   "cell_type": "markdown",
   "metadata": {}
  },
  {
   "cell_type": "code",
   "execution_count": null,
   "metadata": {},
   "outputs": [],
   "source": []
  }
 ],
 "metadata": {
  "kernelspec": {
   "display_name": "Python 3",
   "language": "python",
   "name": "python3"
  },
  "language_info": {
   "codemirror_mode": {
    "name": "ipython",
    "version": 3
   },
   "file_extension": ".py",
   "mimetype": "text/x-python",
   "name": "python",
   "nbconvert_exporter": "python",
   "pygments_lexer": "ipython3",
   "version": "3.8.5-final"
  },
  "widgets": {
   "application/vnd.jupyter.widget-state+json": {
    "state": {},
    "version_major": 2,
    "version_minor": 0
   }
  }
 },
 "nbformat": 4,
 "nbformat_minor": 4
}